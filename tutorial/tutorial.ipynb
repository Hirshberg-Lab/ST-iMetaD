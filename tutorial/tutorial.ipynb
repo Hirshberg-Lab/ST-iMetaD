{
 "cells": [
  {
   "cell_type": "markdown",
   "metadata": {},
   "source": [
    "This tutorial shows how the STiMetaD class can be used for kinetics inference through the Short-Time Infrequent Metadynamics method. When initiating the class, one can set the minimal number of samples used for the inference. The default value is 5."
   ]
  },
  {
   "cell_type": "code",
   "execution_count": 1,
   "metadata": {},
   "outputs": [],
   "source": [
    "import numpy as np\n",
    "import pandas as pd\n",
    "import matplotlib.pyplot as plt\n",
    "from STiMetaD import STiMetaD\n",
    "\n",
    "estimator = STiMetaD(minSampleSize = 5)"
   ]
  },
  {
   "cell_type": "markdown",
   "metadata": {},
   "source": [
    "We use data of Metadynamics simulations of alanine dipeptide, biasing the suboptimal $\\psi$ angle as collective variable at different deposition rates.\n",
    "Each data csv file contains three columns: the simulation time, the acceleration factor and the rescaled time.\n",
    "\n",
    "All functions of the STiMetaD class require a numpy array of rescaled first-passage times. Here, we provide it with the appropriate column of the data csv file (\"predicted\"). The STiMetaD class provides estimations for the mean first-passage time (MFPT), the kinetic rate and $t^*$. Below, we obtain estimations for simulations with a bias pace of 20 ps, in units of $\\mu s$ or $\\mu s ^ {-1}$."
   ]
  },
  {
   "cell_type": "code",
   "execution_count": 2,
   "metadata": {},
   "outputs": [
    {
     "name": "stdout",
     "output_type": "stream",
     "text": [
      "MFPT: 5.0546241896400215, k: 0.19783864486891112, t*: 0.184311499096\n"
     ]
    }
   ],
   "source": [
    "data = pd.read_csv(\"alanineDipeptide/psi20.csv\")\n",
    "samples = np.array(data.predicted)\n",
    "print(f\"MFPT: {estimator.estimateMFPT(samples = samples) / 1e6}, \"\\\n",
    "      f\"k: {estimator.estimateRate(samples = samples) * 1e6}, \"\\\n",
    "      f\"t*: {estimator.estimateTstar(samples = samples) / 1e6}\")"
   ]
  },
  {
   "cell_type": "markdown",
   "metadata": {},
   "source": [
    "We can choose other values for the minimal numbers of samples,\n",
    "by setting the minSampleSize parameter."
   ]
  },
  {
   "cell_type": "code",
   "execution_count": 3,
   "metadata": {},
   "outputs": [
    {
     "name": "stdout",
     "output_type": "stream",
     "text": [
      "MFPT (minimum 5 samples): 5.0546241896400215, MFPT (minimum 50 samples): 8.398149074709304\n"
     ]
    }
   ],
   "source": [
    "print(f\"MFPT (minimum 5 samples): {estimator.estimateMFPT(samples = samples) / 1e6}, \"\\\n",
    "      f\"MFPT (minimum 50 samples): {estimator.estimateMFPT(samples = samples, minSampleSize = 50) / 1e6}\")"
   ]
  },
  {
   "cell_type": "markdown",
   "metadata": {},
   "source": [
    "We can also obtain a pandas dataframe with estimations of the kinetic rates for different choices of $t^*$. It also gives $R^2$ for each estimation."
   ]
  },
  {
   "cell_type": "code",
   "execution_count": 4,
   "metadata": {},
   "outputs": [
    {
     "name": "stdout",
     "output_type": "stream",
     "text": [
      "          Tstar    prediction        R2\n",
      "0  33849.311881  1.391923e-07  0.805184\n",
      "1  34869.917104  1.431131e-07  0.885909\n",
      "2  41944.413164  1.525084e-07  0.903221\n",
      "3  45725.439924  1.572324e-07  0.929170\n",
      "4  49134.368885  1.622596e-07  0.941932\n",
      "5  54918.959304  1.674673e-07  0.947387\n",
      "6  62037.590678  1.710456e-07  0.955537\n",
      "7  62251.465158  1.726921e-07  0.964751\n",
      "8  68237.711000  1.766459e-07  0.964608\n",
      "9  80602.464350  1.794084e-07  0.967944\n"
     ]
    }
   ],
   "source": [
    "print(estimator.obtainEstimationsDataFrame(samples = samples, minSampleSize = 5)[:10])"
   ]
  },
  {
   "cell_type": "markdown",
   "metadata": {},
   "source": [
    "Lastly, the class can also give the standard iMetaD estimation, and the p-value of a Kolmogorov–Smirnov test. The number of samples from the fitted exponential distribution is adjustable."
   ]
  },
  {
   "cell_type": "code",
   "execution_count": 5,
   "metadata": {},
   "outputs": [
    {
     "name": "stdout",
     "output_type": "stream",
     "text": [
      "MFPT (iMetaD): 33191796.97649364, k (iMetaD): 3.012792590615681e-08, MFPT, p-value: (33191796.97649364, 1.8836615120202843e-26), k, p-value: (3.012792590615681e-08, 2.311389185427692e-26)\n"
     ]
    }
   ],
   "source": [
    "print(f\"MFPT (iMetaD): {estimator.iMetaDMFPT(samples = samples) }, \"\\\n",
    "      f\"k (iMetaD): {estimator.iMetaDrate(samples = samples) }, \"\\\n",
    "      f\"MFPT, p-value: {estimator.iMetaDMFPT(samples = samples, KStest = True, fitSamples = 1000000) }, \"\\\n",
    "      f\"k, p-value: {estimator.iMetaDrate(samples = samples, KStest = True, fitSamples = 1000000) }\")"
   ]
  },
  {
   "cell_type": "markdown",
   "metadata": {},
   "source": [
    "Below, we reproduce Figures 2, 3(a,b), and 4(b) to demontrate the use of the class."
   ]
  },
  {
   "cell_type": "code",
   "execution_count": 6,
   "metadata": {},
   "outputs": [
    {
     "name": "stderr",
     "output_type": "stream",
     "text": [
      "/home/ofirblumer/Projects/resetting/iMetaDpaper/STiMetaD/STiMetaD.py:20: RuntimeWarning: overflow encountered in exp\n",
      "  return 1-np.exp(-t / a)\n"
     ]
    },
    {
     "data": {
      "image/png": "[encoded data removed]",
      "text/plain": [
       "<Figure size 504x234 with 2 Axes>"
      ]
     },
     "metadata": {
      "needs_background": "light"
     },
     "output_type": "display_data"
    }
   ],
   "source": [
    "unbiased = 110372.643984 # Unbiased MFPT in ps\n",
    "\n",
    "fig, axs = plt.subplots(1, 2, figsize=(7., 3.25))\n",
    "\n",
    "paces = [1, 2, 5, 10, 20, 100]\n",
    "angles = np.array([0, 18, 36, 54, 72, 90])\n",
    "\n",
    "speedups = []\n",
    "iMetaDpredictions = []\n",
    "STiMetaDpredictions = []\n",
    "\n",
    "for pace in paces:\n",
    "    data = pd.read_csv(f\"WolfeQuapp/0_{pace}.csv\")\n",
    "    samples = np.array(data.predicted)\n",
    "\n",
    "    iMetaDpredictions.append(estimator.iMetaDMFPT(samples = samples) / 1e3)\n",
    "    STiMetaDpredictions.append(estimator.estimateMFPT(samples = samples) / 1e3)\n",
    "    speedups.append(unbiased / data.time.mean())\n",
    "\n",
    "axs[0].plot(speedups, [unbiased / 1e3 for speedup in speedups], linestyle=\"dashed\",linewidth=2)\n",
    "axs[0].plot(speedups, iMetaDpredictions, \"o\", c='#D55E00')\n",
    "axs[0].plot(speedups, STiMetaDpredictions, \"s\", c='#CC79A7') \n",
    "axs[0].set_xlabel(\"Speedup\")\n",
    "axs[0].set_ylabel(\"MFPT (ns)\")\n",
    "\n",
    "iMetaDpredictions = []\n",
    "STiMetaDpredictions = []\n",
    "\n",
    "for angle in angles:\n",
    "    data = pd.read_csv(f\"WolfeQuapp/{angle}_5.csv\")\n",
    "    samples = np.array(data.predicted)\n",
    "\n",
    "    iMetaDpredictions.append(estimator.iMetaDMFPT(samples = samples) / 1e3)\n",
    "    STiMetaDpredictions.append(estimator.estimateMFPT(samples = samples) / 1e3)\n",
    "\n",
    "axs[1].plot(np.sin(angles * np.pi / 180), [unbiased / 1e3 for speedup in speedups], linestyle=\"dashed\", linewidth=2)\n",
    "axs[1].plot(np.sin(angles * np.pi / 180), iMetaDpredictions, \"o\", c='#D55E00')\n",
    "axs[1].plot(np.sin(angles * np.pi / 180), STiMetaDpredictions, \"s\", c='#CC79A7') \n",
    "axs[1].set_xlabel(r\"Dev. from good CV [sin($\\theta$)]\")\n",
    "axs[1].set_ylabel(\"MFPT (ns)\")\n",
    "\n",
    "axs[0].legend([\"Unbiased\", \"iMetaD\", \"ST-iMetaD\"], loc=\"upper left\")\n",
    "axs[1].set_yscale(\"log\")\n",
    "fig.tight_layout()"
   ]
  },
  {
   "cell_type": "code",
   "execution_count": 7,
   "metadata": {},
   "outputs": [
    {
     "name": "stderr",
     "output_type": "stream",
     "text": [
      "/home/ofirblumer/Projects/resetting/iMetaDpaper/STiMetaD/STiMetaD.py:20: RuntimeWarning: overflow encountered in exp\n",
      "  return 1-np.exp(-t / a)\n"
     ]
    },
    {
     "data": {
      "image/png": "[encoded data removed]",
      "text/plain": [
       "<Figure size 504x234 with 2 Axes>"
      ]
     },
     "metadata": {
      "needs_background": "light"
     },
     "output_type": "display_data"
    }
   ],
   "source": [
    "unbiased = 3494120 # Unbiased MFPT in ps\n",
    "\n",
    "fig, axs = plt.subplots(1, 2, figsize=(7., 3.25))\n",
    "CVs = [\"phi\", \"psi\"]\n",
    "paces = [1, 2, 5, 10, 20, 50]\n",
    "\n",
    "for i in range(2):\n",
    "    speedups = []\n",
    "    iMetaDpredictions = []\n",
    "    STiMetaDpredictions = []\n",
    "\n",
    "    for pace in paces:\n",
    "        data = pd.read_csv(f\"alanineDipeptide/{CVs[i]}{pace}.csv\")\n",
    "        samples = np.array(data.predicted)\n",
    "\n",
    "        iMetaDpredictions.append(estimator.iMetaDMFPT(samples = samples) / 1e6)\n",
    "        STiMetaDpredictions.append(estimator.estimateMFPT(samples = samples) / 1e6)\n",
    "        speedups.append(unbiased / data.time.mean())\n",
    "\n",
    "    axs[i].plot(speedups, [unbiased / 1e6 for speedup in speedups], linestyle=\"dashed\", linewidth=2)\n",
    "    axs[i].plot(speedups, iMetaDpredictions, \"o\", c='#D55E00')\n",
    "    axs[i].plot(speedups, STiMetaDpredictions, \"s\", c='#CC79A7') \n",
    "    axs[i].set_xlabel(\"Speedup\")\n",
    "    axs[i].set_ylabel(r\"MFPT ($\\mu$s)\")\n",
    "\n",
    "axs[0].legend([\"Unbiased\", \"iMetaD\", \"ST-iMetaD\"], loc=\"lower left\")\n",
    "axs[1].set_yscale(\"log\")\n",
    "fig.tight_layout()"
   ]
  },
  {
   "cell_type": "code",
   "execution_count": 8,
   "metadata": {},
   "outputs": [
    {
     "data": {
      "image/png": "[encoded data removed]",
      "text/plain": [
       "<Figure size 504x194.4 with 3 Axes>"
      ]
     },
     "metadata": {
      "needs_background": "light"
     },
     "output_type": "display_data"
    }
   ],
   "source": [
    "unbiased = 3.76e5 # Unbiased MFPT in ps\n",
    "\n",
    "fig, axs = plt.subplots(1, 3, figsize=(7., 2.7))\n",
    "paces = [20, 50, 100, 200, 500, 1000]\n",
    "CVs = [\"HLDA\", \"Rg\", \"RMSD\"]\n",
    "\n",
    "for i in range(3):\n",
    "    speedups = []\n",
    "    iMetaDpredictions = []\n",
    "    STiMetaDpredictions = []\n",
    "\n",
    "    for pace in paces:\n",
    "        data = pd.read_csv(f\"chignolin/{CVs[i]}{pace}.csv\")\n",
    "        samples = np.array(data.predicted)\n",
    "\n",
    "        iMetaDpredictions.append(estimator.iMetaDMFPT(samples = samples) / 1e3)\n",
    "        STiMetaDpredictions.append(estimator.estimateMFPT(samples = samples) / 1e3)\n",
    "        speedups.append(unbiased / data.time.mean())\n",
    "\n",
    "    axs[i].plot([3, 100], [unbiased / 1e3, unbiased / 1e3], linestyle=\"dashed\", linewidth=2)\n",
    "    axs[i].plot(speedups, iMetaDpredictions, \"o\", c='#D55E00')\n",
    "    axs[i].plot(speedups, STiMetaDpredictions, \"s\", c='#CC79A7') \n",
    "    axs[i].set_xlabel(\"Speedup\")\n",
    "    axs[i].set_xscale(\"log\")\n",
    "    axs[i].set_yscale(\"log\")\n",
    "    axs[i].set_xlim(3, 100)\n",
    "\n",
    "axs[0].legend([\"Unbiased\", \"iMetaD\", \"ST-iMetaD\"], loc=\"upper left\")\n",
    "for i in range(1,3):\n",
    "    axs[i].set_yticks([])\n",
    "    axs[i].set_yticks([])\n",
    "for i in range(3):\n",
    "    axs[i].set_ylim(min([axs[j].get_ylim()[0] for j in range(3)]), max([axs[j].get_ylim()[1] for j in range(3)]))\n",
    "axs[0].set_ylabel(r\"MFPT (ns)\")\n",
    "fig.tight_layout()"
   ]
  }
 ],
 "metadata": {
  "kernelspec": {
   "display_name": "Python 3",
   "language": "python",
   "name": "python3"
  },
  "language_info": {
   "codemirror_mode": {
    "name": "ipython",
    "version": 3
   },
   "file_extension": ".py",
   "mimetype": "text/x-python",
   "name": "python",
   "nbconvert_exporter": "python",
   "pygments_lexer": "ipython3",
   "version": "3.8.10"
  }
 },
 "nbformat": 4,
 "nbformat_minor": 2
}
