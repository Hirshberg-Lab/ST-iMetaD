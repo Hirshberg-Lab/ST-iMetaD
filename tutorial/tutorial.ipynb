{
 "cells": [
  {
   "cell_type": "markdown",
   "metadata": {},
   "source": [
    "This tutorial shows how the STiMetaD class can be used for kinetics inference through the Short-Time Infrequent Metadynamics method. When initiating the class, one can set the minimal number of samples used for the inference. the default value is 5."
   ]
  },
  {
   "cell_type": "code",
   "execution_count": 1,
   "metadata": {},
   "outputs": [],
   "source": [
    "import numpy as np\n",
    "import pandas as pd\n",
    "import matplotlib.pyplot as plt\n",
    "from STiMetaD import STiMetaD\n",
    "\n",
    "estimator = STiMetaD(minSampleSize = 5)"
   ]
  },
  {
   "cell_type": "markdown",
   "metadata": {},
   "source": [
    "We use data of Metadynamics simulations of alanine dipeptide, biasing the suboptimal $\\psi$ angle as collective variable at different deposition rates.\n",
    "Each data csv file contains three columns: the simulation time, the acceleration factor and the rescaled time.\n",
    "\n",
    "All functions of the STiMetaD class require a numpy array of rescaled first-passage times. Here, we provide it with the appropriate column of the data csv file (\"predicted\"). The STiMetaD class provides estimations for the mean first-passage time (MFPT), the kinetic rate and $t^*$. Below, we obtain estimations for simulations with a bias pace of 20 ps, in units of $\\mu s$ or $\\mu s ^ {-1}$."
   ]
  },
  {
   "cell_type": "code",
   "execution_count": 2,
   "metadata": {},
   "outputs": [
    {
     "name": "stdout",
     "output_type": "stream",
     "text": [
      "MFPT: 5.0546241896400215, k: 0.19783864486891112, t*: 0.184311499096\n"
     ]
    }
   ],
   "source": [
    "data = pd.read_csv(\"exampleData/alanine20.csv\")\n",
    "samples = np.array(data.predicted)\n",
    "print(f\"MFPT: {estimator.estimateMFPT(samples = samples) / 1e6}, \"\\\n",
    "      f\"k: {estimator.estimateRate(samples = samples) * 1e6}, \"\\\n",
    "      f\"t*: {estimator.estimateTstar(samples = samples) / 1e6}\")"
   ]
  },
  {
   "cell_type": "markdown",
   "metadata": {},
   "source": [
    "We can use values for the minimal numbers of samples which are different from the one set when initializing the class,\n",
    "by setting the minSampleSize parameter."
   ]
  },
  {
   "cell_type": "code",
   "execution_count": 3,
   "metadata": {},
   "outputs": [
    {
     "name": "stdout",
     "output_type": "stream",
     "text": [
      "MFPT (minimum 5 samples): 5.0546241896400215, MFPT (minimum 50 samples): 8.398149074709304\n"
     ]
    }
   ],
   "source": [
    "print(f\"MFPT (minimum 5 samples): {estimator.estimateMFPT(samples = samples) / 1e6}, \"\\\n",
    "      f\"MFPT (minimum 50 samples): {estimator.estimateMFPT(samples = samples, minSampleSize = 50) / 1e6}\")"
   ]
  },
  {
   "cell_type": "markdown",
   "metadata": {},
   "source": [
    "We can also obtain a pandas dataframe with estimations of the kinetic rates for different choices of $t^*$. It also gives $R^2$ for each estimation."
   ]
  },
  {
   "cell_type": "code",
   "execution_count": 4,
   "metadata": {},
   "outputs": [
    {
     "name": "stdout",
     "output_type": "stream",
     "text": [
      "           time    prediction        R2\n",
      "0  33849.311881  1.391923e-07  0.805184\n",
      "1  34869.917104  1.431131e-07  0.885909\n",
      "2  41944.413164  1.525084e-07  0.903221\n",
      "3  45725.439924  1.572324e-07  0.929170\n",
      "4  49134.368885  1.622596e-07  0.941932\n",
      "5  54918.959304  1.674673e-07  0.947387\n",
      "6  62037.590678  1.710456e-07  0.955537\n",
      "7  62251.465158  1.726921e-07  0.964751\n",
      "8  68237.711000  1.766459e-07  0.964608\n",
      "9  80602.464350  1.794084e-07  0.967944\n"
     ]
    }
   ],
   "source": [
    "print(estimator.obtainEstimationsDataFrame(samples = samples, minSampleSize = 5)[:10])"
   ]
  },
  {
   "cell_type": "markdown",
   "metadata": {},
   "source": [
    "Lastly, the class can also give the standard iMetaD estimation, and its p-value. The number of samples from the fitted exponential distribution is adjustable."
   ]
  },
  {
   "cell_type": "code",
   "execution_count": 5,
   "metadata": {},
   "outputs": [
    {
     "name": "stdout",
     "output_type": "stream",
     "text": [
      "MFPT (iMetaD): 33191796.97649364, k (iMetaD): 3.012792590615681e-08, MFPT, p-value: (33191796.97649364, 2.2274556605378927e-26), k, p-value: (3.012792590615681e-08, 1.965701811113969e-26)\n"
     ]
    }
   ],
   "source": [
    "print(f\"MFPT (iMetaD): {estimator.iMetaDMFPT(samples = samples) }, \"\\\n",
    "      f\"k (iMetaD): {estimator.iMetaDrate(samples = samples) }, \"\\\n",
    "      f\"MFPT, p-value: {estimator.iMetaDMFPT(samples = samples, KStest = True, fitSamples = 1000000) }, \"\\\n",
    "      f\"k, p-value: {estimator.iMetaDrate(samples = samples, KStest = True, fitSamples = 1000000) }\")"
   ]
  },
  {
   "cell_type": "markdown",
   "metadata": {},
   "source": [
    "Below, we regenerate Figure 3(b), to demontrate the use of the class."
   ]
  },
  {
   "cell_type": "code",
   "execution_count": 6,
   "metadata": {},
   "outputs": [
    {
     "data": {
      "image/png": "[encoded data removed]",
      "text/plain": [
       "<Figure size 432x288 with 1 Axes>"
      ]
     },
     "metadata": {
      "needs_background": "light"
     },
     "output_type": "display_data"
    }
   ],
   "source": [
    "unbiased = 3494120 # Unbiased MFPT in ps\n",
    "paces = [1,2,5,10,20,50]\n",
    "speedups = []\n",
    "iMetaDpredictions = []\n",
    "STiMetaDpredictions = []\n",
    "\n",
    "for pace in paces:\n",
    "    data = pd.read_csv(f\"exampleData/alanine{pace}.csv\")\n",
    "    samples = np.array(data.predicted)\n",
    "\n",
    "    iMetaDpredictions.append(estimator.iMetaDMFPT(samples = samples)/1e6)\n",
    "    STiMetaDpredictions.append(estimator.estimateMFPT(samples = samples)/1e6)\n",
    "    speedups.append(unbiased/data.time.mean())\n",
    "\n",
    "plt.plot(speedups,[unbiased/1e6 for speedup in speedups],linestyle=\"dashed\",linewidth=2)\n",
    "plt.plot(speedups,iMetaDpredictions,\"o\",c='#D55E00')\n",
    "plt.plot(speedups,STiMetaDpredictions,\"s\",c='#CC79A7') \n",
    "plt.xlabel(\"Speedup\")\n",
    "plt.ylabel(r\"MFPT ($\\mu$s)\")\n",
    "plt.yscale(\"log\")"
   ]
  }
 ],
 "metadata": {
  "kernelspec": {
   "display_name": "Python 3",
   "language": "python",
   "name": "python3"
  },
  "language_info": {
   "codemirror_mode": {
    "name": "ipython",
    "version": 3
   },
   "file_extension": ".py",
   "mimetype": "text/x-python",
   "name": "python",
   "nbconvert_exporter": "python",
   "pygments_lexer": "ipython3",
   "version": "3.8.10"
  }
 },
 "nbformat": 4,
 "nbformat_minor": 2
}
