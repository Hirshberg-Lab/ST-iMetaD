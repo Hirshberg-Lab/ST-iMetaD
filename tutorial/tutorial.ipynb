{
 "cells": [
  {
   "cell_type": "markdown",
   "metadata": {},
   "source": [
    "This tutorial shows how the STiMetaD class can be used for kinetics inference through the Short-Time Infrequent Metadynamics method. When initiating the class, one can set the minimal number of samples used for the inference. The default value is 5."
   ]
  },
  {
   "cell_type": "code",
   "execution_count": 23,
   "metadata": {},
   "outputs": [],
   "source": [
    "import numpy as np\n",
    "import pandas as pd\n",
    "import matplotlib.pyplot as plt\n",
    "from STiMetaD import STiMetaD as STM\n",
    "import warnings\n",
    "warnings.filterwarnings('ignore')\n",
    "\n",
    "estimator = STM(minSampleSize = 5)"
   ]
  },
  {
   "cell_type": "markdown",
   "metadata": {},
   "source": [
    "We use data of Metadynamics simulations of alanine dipeptide, biasing the suboptimal $\\psi$ angle as collective variable at different deposition rates.\n",
    "Each data csv file contains three columns: the simulation time, the acceleration factor and the rescaled time.\n",
    "\n",
    "All functions of the STiMetaD class require a numpy array of rescaled first-passage times. Here, we provide it with the appropriate column of the data csv file (\"predicted\"). The STiMetaD class provides estimations for the mean first-passage time (MFPT), the kinetic rate, and $t^*$. Below, we obtain estimations for simulations with a bias pace of 20 ps, in units of $\\mu s$ or $\\mu s ^ {-1}$."
   ]
  },
  {
   "cell_type": "code",
   "execution_count": 24,
   "metadata": {},
   "outputs": [
    {
     "name": "stdout",
     "output_type": "stream",
     "text": [
      "MFPT: 5.0546241896400215, k: 0.19783864486891112, t*: 0.1514917126\n"
     ]
    }
   ],
   "source": [
    "data = pd.read_csv(\"alanineDipeptide/psi20.csv\")\n",
    "samples = np.array(data.predicted)\n",
    "print(f\"MFPT: {estimator.estimateMFPT(samples = samples) / 1e6}, \"\\\n",
    "      f\"k: {estimator.estimateRate(samples = samples) * 1e6}, \"\\\n",
    "      f\"t*: {estimator.estimateTstar(samples = samples) / 1e6}\")"
   ]
  },
  {
   "cell_type": "markdown",
   "metadata": {},
   "source": [
    "We can choose other values for the minimal numbers of samples,\n",
    "by setting the minSampleSize parameter."
   ]
  },
  {
   "cell_type": "code",
   "execution_count": 25,
   "metadata": {},
   "outputs": [
    {
     "name": "stdout",
     "output_type": "stream",
     "text": [
      "MFPT (minimum 5 samples): 5.0546241896400215, MFPT (minimum 50 samples): 8.398149074709304\n"
     ]
    }
   ],
   "source": [
    "print(f\"MFPT (minimum 5 samples): {estimator.estimateMFPT(samples = samples) / 1e6}, \"\\\n",
    "      f\"MFPT (minimum 50 samples): {estimator.estimateMFPT(samples = samples, minSampleSize = 50) / 1e6}\")"
   ]
  },
  {
   "cell_type": "markdown",
   "metadata": {},
   "source": [
    "We can also obtain a pandas dataframe with estimations of the kinetic rates for different choices of $t^*$. It also gives $R^2$ for each estimation."
   ]
  },
  {
   "cell_type": "code",
   "execution_count": 26,
   "metadata": {},
   "outputs": [
    {
     "name": "stdout",
     "output_type": "stream",
     "text": [
      "          Tstar    prediction        R2\n",
      "0  23289.943500  1.391923e-07  0.805184\n",
      "1  33849.311881  1.431131e-07  0.885909\n",
      "2  34869.917104  1.525084e-07  0.903221\n",
      "3  41944.413164  1.572324e-07  0.929170\n",
      "4  45725.439924  1.622596e-07  0.941932\n",
      "5  49134.368885  1.674673e-07  0.947387\n",
      "6  54918.959304  1.710456e-07  0.955537\n",
      "7  62037.590678  1.726921e-07  0.964751\n",
      "8  62251.465158  1.766459e-07  0.964608\n",
      "9  68237.711000  1.794084e-07  0.967944\n"
     ]
    }
   ],
   "source": [
    "print(estimator.obtainEstimationsDataFrame(samples = samples, minSampleSize = 5)[:10])"
   ]
  },
  {
   "cell_type": "markdown",
   "metadata": {},
   "source": [
    "Lastly, the class can also give the standard iMetaD estimation, and the p-value of a Kolmogorov–Smirnov test. The number of samples from the fitted exponential distribution is adjustable."
   ]
  },
  {
   "cell_type": "code",
   "execution_count": 27,
   "metadata": {},
   "outputs": [
    {
     "name": "stdout",
     "output_type": "stream",
     "text": [
      "MFPT (iMetaD): 33.19179697649364, k (iMetaD): 0.03012792590615681, MFPT, p-value: (33191796.97649364, 2.2321248724280075e-26), k, p-value: (3.012792590615681e-08, 2.6150743132424274e-26)\n"
     ]
    }
   ],
   "source": [
    "print(f\"MFPT (iMetaD): {estimator.iMetaDMFPT(samples = samples) / 1e6}, \"\\\n",
    "      f\"k (iMetaD): {estimator.iMetaDrate(samples = samples) * 1e6}, \"\\\n",
    "      f\"MFPT, p-value: {estimator.iMetaDMFPT(samples = samples, KStest = True, fitSamples = 1000000)}, \"\\\n",
    "      f\"k, p-value: {estimator.iMetaDrate(samples = samples, KStest = True, fitSamples = 1000000)}\")"
   ]
  },
  {
   "cell_type": "markdown",
   "metadata": {},
   "source": [
    "Below, we reproduce Figures 2, 3(a,b), and 4(b) to demontrate the use of the class."
   ]
  },
  {
   "cell_type": "code",
   "execution_count": 28,
   "metadata": {},
   "outputs": [
    {
     "data": {
      "image/png": "[encoded data removed]",
      "text/plain": [
       "<Figure size 504x234 with 2 Axes>"
      ]
     },
     "metadata": {
      "needs_background": "light"
     },
     "output_type": "display_data"
    }
   ],
   "source": [
    "unbiased = 110372.643984 # Unbiased MFPT in ps\n",
    "Nsamples = 200\n",
    "Nbatches = 1000\n",
    "np.random.seed(25198)\n",
    "\n",
    "fig, axs = plt.subplots(1, 2, figsize=(7., 3.25))\n",
    "\n",
    "paces = [1, 2, 5, 10, 20, 100]\n",
    "angles = np.array([0, 18, 36, 54, 72])\n",
    "\n",
    "for pace in paces:\n",
    "    \n",
    "    fullData = pd.read_csv(f\"WolfeQuapp/0_{pace}.csv\")\n",
    "    iMetaD = []\n",
    "    STiMetaD = []\n",
    "    speedup = []\n",
    "    \n",
    "    for i in range(Nbatches):\n",
    "        \n",
    "        data = fullData.sample(Nsamples)\n",
    "        samples = np.array(data.predicted)\n",
    "        iMetaD.append(estimator.iMetaDMFPT(samples = samples) / 1e3)\n",
    "        STiMetaD.append(estimator.estimateMFPT(samples = samples) / 1e3)\n",
    "        speedup.append(unbiased / data.time.mean())\n",
    "        \n",
    "    axs[0].boxplot(iMetaD, positions = [np.mean(speedup)], widths = 10, showfliers = False, manage_ticks = False,\n",
    "                   boxprops = dict(alpha = 0.6, facecolor = '#D55E00'), medianprops = {\"linestyle\": \"none\"}, patch_artist = True)\n",
    "    axs[0].boxplot(STiMetaD, positions = [np.mean(speedup)], widths = 10, showfliers = False, manage_ticks = False,\n",
    "                   boxprops = dict(alpha = 0.6, facecolor = '#CC79A7'), medianprops = {\"linestyle\": \"none\"}, patch_artist = True)\n",
    "\n",
    "axs[0].set_xlabel(\"Speedup\")\n",
    "axs[0].set_ylabel(\"MFPT (ns)\")\n",
    "\n",
    "for angle in angles:\n",
    "    \n",
    "    fullData = pd.read_csv(f\"WolfeQuapp/{angle}_5.csv\")\n",
    "    iMetaD = []\n",
    "    STiMetaD = []\n",
    "    \n",
    "    for i in range(Nbatches):\n",
    "        \n",
    "        data = fullData.sample(Nsamples)\n",
    "        samples = np.array(data.predicted)\n",
    "        iMetaD.append(estimator.iMetaDMFPT(samples = samples) / 1e3)\n",
    "        STiMetaD.append(estimator.estimateMFPT(samples = samples) / 1e3)\n",
    "        \n",
    "    axs[1].boxplot(iMetaD, positions = [np.sin(angle * np.pi / 180)], widths = 0.1, showfliers = False, manage_ticks = False,\n",
    "                   boxprops = dict(alpha = 0.6, facecolor = '#D55E00'), medianprops = {\"linestyle\": \"none\"}, patch_artist = True)\n",
    "    axs[1].boxplot(STiMetaD, positions = [np.sin(angle * np.pi / 180)], widths = 0.1, showfliers = False, manage_ticks = False,\n",
    "                   boxprops = dict(alpha = 0.6, facecolor = '#CC79A7'), medianprops = {\"linestyle\": \"none\"}, patch_artist = True)        \n",
    "\n",
    "for i in range(2):\n",
    "    axs[i].set_xlim(*axs[i].get_xlim())\n",
    "    axs[i].plot(axs[i].get_xlim(), [unbiased / 1e3, unbiased / 1e3], linestyle = \"dashed\", linewidth = 2)\n",
    "    axs[i].set_yscale(\"log\")\n",
    "\n",
    "axs[1].set_xlabel(r\"Dev. from good CV [sin($\\theta$)]\")\n",
    "axs[1].set_ylabel(\"MFPT (ns)\")\n",
    "\n",
    "fig.tight_layout()"
   ]
  },
  {
   "cell_type": "code",
   "execution_count": 29,
   "metadata": {},
   "outputs": [
    {
     "data": {
      "image/png": "[encoded data removed]",
      "text/plain": [
       "<Figure size 504x234 with 2 Axes>"
      ]
     },
     "metadata": {
      "needs_background": "light"
     },
     "output_type": "display_data"
    }
   ],
   "source": [
    "unbiased = 3494120 # Unbiased MFPT in ps\n",
    "np.random.seed(172198)\n",
    "\n",
    "fig, axs = plt.subplots(1, 2, figsize=(7., 3.25))\n",
    "\n",
    "CVs = [\"phi\", \"psi\"]\n",
    "paces = [1, 2, 5, 10, 20, 50]\n",
    "widths = [500, 50]\n",
    "for j in range(2):\n",
    "    \n",
    "    for pace in paces:\n",
    "        \n",
    "        fullData = pd.read_csv(f\"alanineDipeptide/{CVs[j]}{pace}.csv\")\n",
    "        iMetaD = []\n",
    "        STiMetaD = []\n",
    "        speedup = []\n",
    "        \n",
    "        for i in range(Nbatches):\n",
    "            \n",
    "            data = fullData.sample(Nsamples)\n",
    "            samples = np.array(data.predicted)\n",
    "            iMetaD.append(estimator.iMetaDMFPT(samples = samples) / 1e6)\n",
    "            STiMetaD.append(estimator.estimateMFPT(samples = samples) / 1e6)\n",
    "            speedup.append(unbiased / data.time.mean())\n",
    "            \n",
    "        axs[j].boxplot(iMetaD, positions = [np.mean(speedup)], widths = widths[j], showfliers = False, manage_ticks = False,\n",
    "                       boxprops = dict(alpha = 0.6, facecolor = '#D55E00'), medianprops = {\"linestyle\": \"none\"}, patch_artist = True)\n",
    "        axs[j].boxplot(STiMetaD, positions = [np.mean(speedup)], widths = widths[j], showfliers = False, manage_ticks = False,\n",
    "                       boxprops = dict(alpha = 0.6, facecolor = '#CC79A7'), medianprops = {\"linestyle\": \"none\"}, patch_artist = True)\n",
    "            \n",
    "    axs[j].set_xlabel(\"Speedup\")\n",
    "    axs[j].set_ylabel(r\"MFPT ($\\mu$s)\")\n",
    "\n",
    "for i in range(2):\n",
    "    axs[i].set_xlim(*axs[i].get_xlim())\n",
    "    axs[i].plot(axs[i].get_xlim(), [unbiased / 1e6, unbiased / 1e6], linestyle = \"dashed\", linewidth = 2)\n",
    "    \n",
    "axs[1].set_yscale(\"log\")\n",
    "\n",
    "fig.tight_layout()"
   ]
  },
  {
   "cell_type": "code",
   "execution_count": 30,
   "metadata": {},
   "outputs": [
    {
     "data": {
      "image/png": "[encoded data removed]",
      "text/plain": [
       "<Figure size 504x194.4 with 3 Axes>"
      ]
     },
     "metadata": {
      "needs_background": "light"
     },
     "output_type": "display_data"
    }
   ],
   "source": [
    "unbiased = 3.76e5 # Unbiased MFPT in ps\n",
    "np.random.seed(250996)\n",
    "width = lambda p, w: 10**(np.log10(p)+w/2.)-10**(np.log10(p)-w/2.)\n",
    "\n",
    "fig, axs = plt.subplots(1, 3, figsize=(7., 2.7))\n",
    "\n",
    "paces = [20, 50, 100, 200, 500, 1000]\n",
    "CVs = [\"HLDA\", \"Rg\", \"RMSD\"]\n",
    "\n",
    "for j in range(3):\n",
    "\n",
    "    for pace in paces:\n",
    "        \n",
    "        fullData = pd.read_csv(f\"chignolin/{CVs[j]}{pace}.csv\")\n",
    "        iMetaD = []\n",
    "        STiMetaD = []\n",
    "        speedup = []\n",
    "        \n",
    "        for i in range(Nbatches):\n",
    "            \n",
    "            data = fullData.sample(Nsamples)\n",
    "            samples = np.array(data.predicted)\n",
    "            iMetaD.append(estimator.iMetaDMFPT(samples = samples) / 1e3)\n",
    "            STiMetaD.append(estimator.estimateMFPT(samples = samples) / 1e3)\n",
    "            speedup.append(unbiased / data.time.mean())\n",
    "            \n",
    "        axs[j].boxplot(iMetaD, positions = [np.mean(speedup)], widths = width(np.mean(speedup), 0.1), showfliers = False, manage_ticks = False,\n",
    "                       boxprops = dict(alpha = 0.6, facecolor = '#D55E00'), medianprops = {\"linestyle\": \"none\"}, patch_artist = True)\n",
    "        axs[j].boxplot(STiMetaD, positions = [np.mean(speedup)], widths = width(np.mean(speedup), 0.1), showfliers = False, manage_ticks = False,\n",
    "                       boxprops = dict(alpha = 0.6, facecolor = '#CC79A7'), medianprops = {\"linestyle\": \"none\"}, patch_artist = True)\n",
    "    \n",
    "    axs[j].plot([3, 100], [unbiased / 1e3, unbiased / 1e3], linestyle = \"dashed\", linewidth = 2)\n",
    "    axs[j].set_xlabel(\"Speedup\")\n",
    "    axs[j].set_xscale(\"log\")\n",
    "    axs[j].set_yscale(\"log\")\n",
    "    axs[j].set_xlim(3, 100)\n",
    "\n",
    "for i in range(1,3):\n",
    "    \n",
    "    axs[i].set_yticks([])\n",
    "    axs[i].set_yticks([])\n",
    "    \n",
    "for i in range(3):\n",
    "    \n",
    "    axs[i].set_ylim(min([axs[j].get_ylim()[0] for j in range(3)]), max([axs[j].get_ylim()[1] for j in range(3)]))\n",
    "\n",
    "fig.tight_layout()"
   ]
  }
 ],
 "metadata": {
  "kernelspec": {
   "display_name": "Python 3 (ipykernel)",
   "language": "python",
   "name": "python3"
  },
  "language_info": {
   "codemirror_mode": {
    "name": "ipython",
    "version": 3
   },
   "file_extension": ".py",
   "mimetype": "text/x-python",
   "name": "python",
   "nbconvert_exporter": "python",
   "pygments_lexer": "ipython3",
   "version": "3.8.10"
  }
 },
 "nbformat": 4,
 "nbformat_minor": 4
}
